{
 "cells": [
  {
   "cell_type": "code",
   "execution_count": 1,
   "metadata": {},
   "outputs": [],
   "source": [
    "from sqlalchemy import create_engine, text\n",
    "\n",
    "\n",
    "def run_sql(query: str):\n",
    "    engine = create_engine(\"sqlite:///../database.db\")\n",
    "    with engine.connect() as conn:\n",
    "        return conn.execute(text(query)).fetchall()"
   ]
  },
  {
   "cell_type": "code",
   "execution_count": 2,
   "metadata": {},
   "outputs": [
    {
     "data": {
      "text/plain": [
       "[(1, 'Tether', 'USDT', '₮', 0, '2025-03-21 17:54:40', None),\n",
       " (2, 'US Dollar', 'USD', '$', 1, '2025-03-21 17:54:40', None),\n",
       " (3, 'Iran Rial', 'IRR', 'rial', 1, '2025-03-21 17:54:40', None),\n",
       " (4, 'Iran Toman', 'IRT', 'toman', 1, '2025-03-21 17:54:40', None),\n",
       " (5, 'Gold (1g)', 'XAUg', 'Au', 0, '2025-03-21 17:54:40', None),\n",
       " (6, 'Euro', 'EUR', '€', 1, '2025-03-21 17:54:40', None),\n",
       " (7, 'Tether', 'USDT', '₮', 0, '2025-03-21 17:54:40', None),\n",
       " (8, 'Bitcoin', 'BTC', '₿', 0, '2025-03-21 17:54:40', None),\n",
       " (9, 'Ethereum', 'ETH', 'Ξ', 0, '2025-03-21 17:54:40', None)]"
      ]
     },
     "execution_count": 2,
     "metadata": {},
     "output_type": "execute_result"
    }
   ],
   "source": [
    "run_sql(\"SELECT * FROM currencies;\")"
   ]
  },
  {
   "cell_type": "code",
   "execution_count": 3,
   "metadata": {},
   "outputs": [
    {
     "data": {
      "text/plain": [
       "[(0, 'id', 'INTEGER', 1, None, 1),\n",
       " (1, 'rate', 'FLOAT', 1, None, 0),\n",
       " (2, 'effective_date', 'DATETIME', 0, 'CURRENT_TIMESTAMP', 0),\n",
       " (3, 'created_at', 'DATETIME', 0, 'CURRENT_TIMESTAMP', 0),\n",
       " (4, 'updated_at', 'DATETIME', 0, None, 0),\n",
       " (5, 'source_currency_id', 'INTEGER', 0, None, 0),\n",
       " (6, 'target_currency_id', 'INTEGER', 0, None, 0)]"
      ]
     },
     "execution_count": 3,
     "metadata": {},
     "output_type": "execute_result"
    }
   ],
   "source": [
    "run_sql(\"PRAGMA table_info(exchange_rates);\")"
   ]
  },
  {
   "cell_type": "code",
   "execution_count": 4,
   "metadata": {},
   "outputs": [
    {
     "data": {
      "text/plain": [
       "[(1, 84000.0, '2025-03-21 21:24:00.000000', '2025-03-21 17:54:51', None, 8, 1),\n",
       " (2, 7869000034.0, '2025-03-21 21:24:00.000000', '2025-03-21 17:54:51', None, 8, 4),\n",
       " (3, 1969.01, '2025-03-21 21:24:00.000000', '2025-03-21 17:54:51', None, 9, 1),\n",
       " (4, 184440330.0, '2025-03-21 21:24:00.000000', '2025-03-21 17:54:51', None, 9, 4),\n",
       " (5, 93735.0, '2025-03-21 21:24:00.000000', '2025-03-21 17:54:52', None, 1, 4)]"
      ]
     },
     "execution_count": 4,
     "metadata": {},
     "output_type": "execute_result"
    }
   ],
   "source": [
    "run_sql(\"SELECT * FROM exchange_rates;\")"
   ]
  },
  {
   "cell_type": "code",
   "execution_count": null,
   "metadata": {},
   "outputs": [],
   "source": []
  }
 ],
 "metadata": {
  "kernelspec": {
   "display_name": ".venv",
   "language": "python",
   "name": "python3"
  },
  "language_info": {
   "codemirror_mode": {
    "name": "ipython",
    "version": 3
   },
   "file_extension": ".py",
   "mimetype": "text/x-python",
   "name": "python",
   "nbconvert_exporter": "python",
   "pygments_lexer": "ipython3",
   "version": "3.12.6"
  }
 },
 "nbformat": 4,
 "nbformat_minor": 2
}
